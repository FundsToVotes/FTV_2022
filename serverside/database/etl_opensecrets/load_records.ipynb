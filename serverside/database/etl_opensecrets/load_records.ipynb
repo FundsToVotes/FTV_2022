{
 "cells": [
  {
   "cell_type": "code",
   "execution_count": 3,
   "id": "62a9c7f7",
   "metadata": {},
   "outputs": [],
   "source": [
    "import pandas as pd\n",
    "import numpy as np\n",
    "import mysql.connector"
   ]
  },
  {
   "cell_type": "code",
   "execution_count": 4,
   "id": "b8f2d5bf",
   "metadata": {},
   "outputs": [],
   "source": [
    "mydb = mysql.connector.connect(\n",
    "    host=\"localhost\",\n",
    "    port=3308,\n",
    "    user=\"root\", \n",
    "    password=\"secret\",\n",
    "    database=\"ftvBackEnd\"\n",
    ")\n",
    "query = (\n",
    "    \"CALL insertTopTen (\"\n",
    "    \"%s,%s,%s,%s,\"\n",
    "    \"%s,%s,%s,%s,%s,\"\n",
    "    \"%s,%s,%s,%s,%s,\"\n",
    "    \"%s,%s,%s,%s,%s,\"\n",
    "    \"%s,%s,%s,%s,%s,\"\n",
    "    \"%s,%s,%s,%s,%s,\"\n",
    "    \"%s,%s,%s,%s,%s,\"\n",
    "    \"%s,%s,%s,%s,%s,\"\n",
    "    \"%s,%s,%s,%s,%s,\"\n",
    "    \"%s,%s,%s,%s,%s,\"\n",
    "    \"%s,%s,%s,%s,%s\"\n",
    "    \")\"\n",
    ")\n",
    "\n",
    "cursor = mydb.cursor()\n",
    "# THIS IS TO GET RID OF THE MF WEIRD DTYPES IN PANDAS AND MYSQL\n",
    "data = pd.read_csv(\"db_backup.csv\", dtype={\"cycle\":\"str\"})\n",
    "records = data.to_records(index=False)\n",
    "d = list(records)\n",
    "for row in d:\n",
    "    processed_tuple = []\n",
    "    for item in row:\n",
    "        if type(item) == np.int64:\n",
    "            processed_tuple.append(item.item())\n",
    "        elif type(item) == str:\n",
    "            processed_tuple.append(item)\n",
    "        else:\n",
    "            processed_tuple.append(item.item())\n",
    "    cursor.execute(query, tuple(processed_tuple))\n",
    "mydb.commit()\n",
    "mydb.close()"
   ]
  },
  {
   "cell_type": "code",
   "execution_count": null,
   "id": "1fd06a0e",
   "metadata": {},
   "outputs": [],
   "source": []
  }
 ],
 "metadata": {
  "kernelspec": {
   "display_name": "Python 3 (ipykernel)",
   "language": "python",
   "name": "python3"
  },
  "language_info": {
   "codemirror_mode": {
    "name": "ipython",
    "version": 3
   },
   "file_extension": ".py",
   "mimetype": "text/x-python",
   "name": "python",
   "nbconvert_exporter": "python",
   "pygments_lexer": "ipython3",
   "version": "3.9.7"
  }
 },
 "nbformat": 4,
 "nbformat_minor": 5
}
