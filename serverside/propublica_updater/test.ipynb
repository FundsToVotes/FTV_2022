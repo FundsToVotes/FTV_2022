{
 "cells": [
  {
   "cell_type": "code",
   "execution_count": 1,
   "id": "39a0d6b0",
   "metadata": {},
   "outputs": [],
   "source": [
    "import requests\n",
    "import os\n",
    "import time\n",
    "import mysql.connector"
   ]
  },
  {
   "cell_type": "code",
   "execution_count": 2,
   "id": "ad0b09b4",
   "metadata": {},
   "outputs": [],
   "source": [
    "headers_dict = {\n",
    "    'X-API-key': os.environ[\"PROPUBLICA_API_KEY\"]\n",
    "}\n",
    "chambers = [\n",
    "    \"senate\",\n",
    "    \"house\"\n",
    "]\n",
    "congress_numbers = [117, 118, 119] # this means we can do at least 3 cycles xd\n",
    "currentest_congress = 0"
   ]
  },
  {
   "cell_type": "code",
   "execution_count": 3,
   "id": "85be6f34",
   "metadata": {
    "scrolled": false
   },
   "outputs": [],
   "source": [
    "member_data = []\n",
    "for chamber in chambers:\n",
    "    for congress_number in congress_numbers:\n",
    "        time.sleep(3)\n",
    "        response = requests.get(f\"https://api.propublica.org/congress/v1/{congress_number}/{chamber}/members.json\", headers=headers_dict)\n",
    "        if response.ok and response.json()[\"status\"] != 'ERROR':\n",
    "            members = response.json()[\"results\"][0][\"members\"]\n",
    "            if len(members) > 0:\n",
    "                currentest_congress = congress_number if congress_number > currentest_congress else currentest_congress\n",
    "            for member in members:\n",
    "                member_data.append({\"name\": f\"{member['first_name']} {member['last_name']}\", \"chamber\": chamber, \"congress_no\": congress_number, \"id\":member[\"id\"]})\n",
    "        else: \n",
    "            print(\"idk if this year exists lmaooo\")"
   ]
  },
  {
   "cell_type": "code",
   "execution_count": 4,
   "id": "1e86e8f5",
   "metadata": {},
   "outputs": [],
   "source": [
    "for member in member_data:\n",
    "    mydb = mysql.connector.connect(\n",
    "        host=\"localhost\",\n",
    "        port=3309,\n",
    "        user=\"root\", \n",
    "        password=\"secret\",\n",
    "        database=\"ftvBackEnd\"\n",
    "    )\n",
    "    cursor = mydb.cursor()\n",
    "    query = \"\"\"\n",
    "    INSERT IGNORE INTO\n",
    "        congressperson(id, name, congress_number, senate)\n",
    "    VALUES \n",
    "        (%s, %s, %s, %s)\n",
    "    \"\"\"\n",
    "    cursor.execute(query, (member[\"id\"], member[\"name\"], member[\"congress_no\"], member[\"chamber\"] == 'senate'))\n",
    "    mydb.commit()\n",
    "    mydb.close()\n",
    "    "
   ]
  },
  {
   "cell_type": "code",
   "execution_count": 5,
   "id": "cc628808",
   "metadata": {},
   "outputs": [],
   "source": [
    "def assign_opensecrets_data(primary_subject):\n",
    "    return {\n",
    "         \"Health\":                                          [\"H\", \"Health\", \"Health\"],\n",
    "         \"Government Operations and Politics\":              [\"Z\", \"Joint Candidate Cmtes\", \"Joint Candidate Cmtes\"],\n",
    "         \"International Affairs\":                           [\"Q\", \"Ideology/Single-Issue\", \"Ideological/Single-Issue\"],\n",
    "         \"Congress\":                                        [\"Z\", \"Joint Candidate Cmtes\", \"Joint Candidate Cmtes\"],\n",
    "         \"Crime and Law Enforcement\":                       [\"P\", \"Labor\", \"Labor\"],\n",
    "         \"Taxation\":                                        [\"Q\", \"Ideology/Single-Issue\", \"Ideological/Single-Issue\"],\n",
    "         \"Armed Forces and National Security\":              [\"D\", \"Defense\", \"Defense\"],\n",
    "         \"Public Lands and Natural Resources\":              [\"E\", \"Energy/Nat Resource\", \"Energy & Natural Resources\"],\n",
    "         \"Education\":                                       [\"W\", \"Other\", \"Other\"],\n",
    "         \"Transportation and Public Works\":                 [\"M\", \"Transportation\", \"Transportation\"],\n",
    "         \"Immigration\":                                     [\"Q\", \"Ideology/Single-Issue\", \"Ideological/Single-Issue\"],\n",
    "         \"Science, Technology, Communications\":             [\"C\", \"Communic/Electronics\", \"Communications/Electronics\"],\n",
    "         \"Labor and Employment\":                            [\"P\", \"Labor\", \"Labor\"],\n",
    "         \"Commerce\":                                        [\"N\", \"Misc Business\", \"Misc Business\"],\n",
    "         \"Environmental Protection\":                        [\"Q\", \"Ideology/Single-Issue\", \"Ideological/Single-Issue\"],\n",
    "         \"Finance and Financial Sector\":                    [\"F\", \"Finance/Insur/RealEst\", \"Finance, Insurance & Real Estate\"],\n",
    "         \"Energy\":                                          [\"E\", \"Energy/Nat Resource\", \"Energy & Natural Resources\"],\n",
    "         \"Civil Rights and Liberties, Minority Issues\":     [\"Q\", \"Ideology/Single-Issue\", \"Ideological/Single-Issue\"],\n",
    "         \"Agriculture and Food\":                            [\"A\", \"Agribusiness\", \"Agribusiness\"],\n",
    "         \"Native Americans\":                                [\"Q\", \"Ideology/Single-Issue\", \"Ideological/Single-Issue\"],\n",
    "         \"Economics and Public Finance\":                    [\"F\", \"Finance/Insur/RealEst\", \"Finance, Insurance & Real Estate\"],\n",
    "         \"Law\":                                             [\"K\", \"Lawyers & Lobbyists\", \"Lawyers & Lobbyists\"],\n",
    "         \"Housing and Community Development\":               [\"C\", \"Construction\", \"Construction\"],\n",
    "         \"Emergency Management\":                            [\"W\", \"Other\", \"Other\"],\n",
    "         \"Social Welfare\":                                  [\"P\", \"Labor\", \"Labor\"],\n",
    "         \"Sports and Recreation\":                           [\"N\", \"Misc Business\", \"Misc Business\"],\n",
    "         \"Foreign Trade and International Finance\":         [\"N\", \"Misc Business\", \"Misc Business\"],\n",
    "         \"Families\":                                        [\"Y\", \"Unknown\", \"Unknown\"],\n",
    "         \"Arts, Culture, Religion\":                         [\"W\", \"Other\", \"Other\"],\n",
    "         \"Water Resources Development\":                     [\"E\", \"Energy/Nat Resource\", \"Energy & Natural Resources\"],\n",
    "         \"Animals\":                                         [\"A\", \"Agribusiness\", \"Agribusiness\"]\n",
    "    }.get(primary_subject, [\"Z\", \"PROBLEM\", \"PROBLEM\"])\n",
    "     "
   ]
  },
  {
   "cell_type": "code",
   "execution_count": 33,
   "id": "3ca398ea",
   "metadata": {},
   "outputs": [],
   "source": [
    "def find_vote_information(bill_slug, congress_number, chamber):\n",
    "    response = requests.get(f'https://api.propublica.org/congress/v1/{congress_number}/bills/{bill_slug}.json', headers=headers_dict)\n",
    "    if response.ok and response.json()[\"status\"] == \"OK\":\n",
    "        if len(response.json()[\"results\"][0][\"votes\"]) > 0:\n",
    "            for vote in response.json()[\"results\"][0][\"votes\"]:\n",
    "                if vote[\"chamber\"].lower() == chamber.lower():\n",
    "                    vote_url = vote[\"api_url\"]\n",
    "                    return parse_voter_data(vote_url)\n",
    "    return None\n",
    "\n",
    "def parse_voter_data(vote_url):\n",
    "    response = requests.get(vote_url, headers=headers_dict)\n",
    "    if response.ok and response.json()[\"status\"] == \"OK\":\n",
    "        vote_dict = {}\n",
    "        for position in response.json()[\"results\"][\"votes\"][\"vote\"][\"positions\"]:\n",
    "            vote_dict[position[\"member_id\"]] = position[\"vote_position\"]\n",
    "        return {\"vote_dict\":vote_dict, \"raw_response\": response.json()[\"results\"][\"votes\"][\"vote\"], \"vote_uri\": vote_url}\n",
    "    return None"
   ]
  },
  {
   "cell_type": "code",
   "execution_count": 40,
   "id": "511be221",
   "metadata": {
    "scrolled": false
   },
   "outputs": [],
   "source": [
    "vote_data = []\n",
    "chamber = \"Senate\"\n",
    "response = requests.get(f'https://api.propublica.org/congress/v1/117/{chamber}/bills/active.json?offset=40', headers=headers_dict)\n",
    "if response.ok and response.json()[\"status\"] == \"OK\":\n",
    "    bills = response.json()[\"results\"][0][\"bills\"]\n",
    "    for bill in bills:\n",
    "        bill_data = {}\n",
    "        vote_information = find_vote_information(bill[\"bill_slug\"], currentest_congress, chamber)\n",
    "        bill_data[\"vote_information\"] = vote_information\n",
    "        if vote_information:\n",
    "            bill_data[\"vote_date\"] = vote_information[\"raw_response\"][\"date\"]\n",
    "            bill_data['bill_slug'] = bill['bill_slug']\n",
    "            bill_data['bill_id'] = bill['bill_id']\n",
    "            bill_data['bill_number'] = vote_information['raw_response']['bill']['number']\n",
    "            bill_data['sponsor_id'] = bill[\"sponsor_id\"]\n",
    "            bill_data['sponsor_uri'] = bill['sponsor_uri']\n",
    "            bill_data['bill_uri'] = bill['bill_uri']\n",
    "            bill_data['title'] = bill['title']\n",
    "            bill_data['latest_action'] = vote_information['raw_response']['bill']['latest_action']\n",
    "            bill_data['short_title'] = bill['short_title']\n",
    "            bill_data['primary_subject'] = bill['primary_subject']\n",
    "            bill_data[\"opensecrets_sector_data\"] = assign_opensecrets_data(bill[\"primary_subject\"])\n",
    "            vote_data.append(bill_data)"
   ]
  },
  {
   "cell_type": "code",
   "execution_count": 41,
   "id": "401455dd",
   "metadata": {
    "scrolled": false
   },
   "outputs": [
    {
     "ename": "IndexError",
     "evalue": "list index out of range",
     "output_type": "error",
     "traceback": [
      "\u001b[1;31m---------------------------------------------------------------------------\u001b[0m",
      "\u001b[1;31mIndexError\u001b[0m                                Traceback (most recent call last)",
      "\u001b[1;32m~\\AppData\\Local\\Temp/ipykernel_39428/1660425597.py\u001b[0m in \u001b[0;36m<module>\u001b[1;34m\u001b[0m\n\u001b[1;32m----> 1\u001b[1;33m \u001b[0mvote_data\u001b[0m\u001b[1;33m[\u001b[0m\u001b[1;36m0\u001b[0m\u001b[1;33m]\u001b[0m\u001b[1;33m\u001b[0m\u001b[1;33m\u001b[0m\u001b[0m\n\u001b[0m",
      "\u001b[1;31mIndexError\u001b[0m: list index out of range"
     ]
    }
   ],
   "source": [
    "vote_data[0]"
   ]
  },
  {
   "cell_type": "code",
   "execution_count": 30,
   "id": "037f80bc",
   "metadata": {
    "scrolled": false
   },
   "outputs": [],
   "source": [
    "for vote in vote_data:\n",
    "    bill_insert_query = \"\"\"\n",
    "    INSERT IGNORE INTO \n",
    "        bill(id, bill_slug, bill_number, sponsor_id,\n",
    "             sponsor_uri, bill_uri, title,\n",
    "             latest_action, short_title, primary_subject,\n",
    "             opensecrets_sector_prefix, opensecrets_sector,\n",
    "             opensecrets_sector_long)\n",
    "    VALUES\n",
    "        (%s,%s,%s,%s,%s,%s,%s,%s,%s,%s,%s,%s, %s)\n",
    "    \"\"\"\n",
    "    mydb = mysql.connector.connect(\n",
    "        host=\"localhost\",\n",
    "        port=3309,\n",
    "        user=\"root\", \n",
    "        password=\"secret\",\n",
    "        database=\"ftvBackEnd\"\n",
    "    )\n",
    "    cursor = mydb.cursor()\n",
    "    cursor.execute(bill_insert_query, (\n",
    "        vote['bill_id'],\n",
    "        vote['bill_slug'],\n",
    "        vote['bill_number'],\n",
    "        vote['sponsor_id'],\n",
    "        vote['sponsor_uri'],\n",
    "        vote['bill_uri'],\n",
    "        vote['title'],\n",
    "        vote['latest_action'],\n",
    "        vote['short_title'],\n",
    "        vote['primary_subject'],\n",
    "        vote[\"opensecrets_sector_data\"][0],\n",
    "        vote[\"opensecrets_sector_data\"][1],\n",
    "        vote[\"opensecrets_sector_data\"][2]\n",
    "    ))\n",
    "    mydb.commit()\n",
    "    # vote sesh\n",
    "    # check if session exists:\n",
    "    cursor.execute('select * from vote_session where date=%s and bill_id=%s', (vote[\"vote_date\"], vote[\"bill_id\"]))\n",
    "    if len(cursor.fetchall()) < 1:\n",
    "        vote_session_query = \"\"\"\n",
    "        INSERT IGNORE INTO \n",
    "            vote_session(date, senate, bill_id)\n",
    "        VALUES\n",
    "            (%s, %s, %s)\n",
    "        \"\"\"\n",
    "        cursor.execute(vote_session_query, (vote[\"vote_date\"], vote[\"vote_information\"][\"raw_response\"][\"chamber\"] == \"Senate\", vote[\"bill_id\"]))\n",
    "        vote_id = cursor.lastrowid\n",
    "        votes = vote[\"vote_information\"][\"vote_dict\"]\n",
    "        vote_query = \"\"\"\n",
    "        INSERT IGNORE INTO \n",
    "            vote (congressperson_id, vote_session_id, position)\n",
    "        VALUES \n",
    "            (%s, %s, %s)\n",
    "        \"\"\"\n",
    "        for vote_response in votes:\n",
    "            cursor.execute(vote_query, (vote_response, vote_id, votes[vote_response]))\n",
    "    mydb.commit()\n",
    "    mydb.close()"
   ]
  },
  {
   "cell_type": "code",
   "execution_count": 46,
   "id": "1abfb650",
   "metadata": {},
   "outputs": [],
   "source": [
    "mydb = mysql.connector.connect(\n",
    "        host=\"localhost\",\n",
    "        port=3309,\n",
    "        user=\"root\", \n",
    "        password=\"secret\",\n",
    "        database=\"ftvBackEnd\"\n",
    "    )\n",
    "x = mydb.cursor()\n",
    "response = x.execute(\"select * from vote_session where date='2022-03-28' and bill_id='s3294-117'\")"
   ]
  },
  {
   "cell_type": "code",
   "execution_count": 44,
   "id": "0b2825be",
   "metadata": {},
   "outputs": [
    {
     "data": {
      "text/plain": [
       "<mysql.connector.cursor_cext.CMySQLCursor at 0x26b12f93cd0>"
      ]
     },
     "execution_count": 44,
     "metadata": {},
     "output_type": "execute_result"
    }
   ],
   "source": [
    "mydb.cursor()"
   ]
  },
  {
   "cell_type": "code",
   "execution_count": 45,
   "id": "9e0b4722",
   "metadata": {},
   "outputs": [],
   "source": [
    "mydb.close()"
   ]
  },
  {
   "cell_type": "code",
   "execution_count": 47,
   "id": "5eb94804",
   "metadata": {},
   "outputs": [],
   "source": [
    "response"
   ]
  },
  {
   "cell_type": "code",
   "execution_count": 50,
   "id": "837f13f7",
   "metadata": {},
   "outputs": [
    {
     "data": {
      "text/plain": [
       "[(10, datetime.date(2022, 3, 28), 0, 's3294-117')]"
      ]
     },
     "execution_count": 50,
     "metadata": {},
     "output_type": "execute_result"
    }
   ],
   "source": [
    "x.fetchall()"
   ]
  },
  {
   "cell_type": "code",
   "execution_count": null,
   "id": "9c9ed448",
   "metadata": {},
   "outputs": [],
   "source": []
  }
 ],
 "metadata": {
  "kernelspec": {
   "display_name": "Python 3 (ipykernel)",
   "language": "python",
   "name": "python3"
  },
  "language_info": {
   "codemirror_mode": {
    "name": "ipython",
    "version": 3
   },
   "file_extension": ".py",
   "mimetype": "text/x-python",
   "name": "python",
   "nbconvert_exporter": "python",
   "pygments_lexer": "ipython3",
   "version": "3.9.7"
  }
 },
 "nbformat": 4,
 "nbformat_minor": 5
}
